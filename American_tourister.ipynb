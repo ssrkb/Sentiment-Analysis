{
  "cells": [
    {
      "cell_type": "code",
      "execution_count": 1,
      "metadata": {
        "colab": {
          "base_uri": "https://localhost:8080/"
        },
        "id": "FxtLWmc6AwPy",
        "outputId": "95d4e001-4c84-4b92-9d9b-492f14754b4f"
      },
      "outputs": [
        {
          "output_type": "stream",
          "name": "stdout",
          "text": [
            "Shape of data=> (4370, 4)\n"
          ]
        }
      ],
      "source": [
        "import numpy as np\n",
        "import pandas as pd\n",
        "# For visualizations\n",
        "import matplotlib.pyplot as plt\n",
        "# For regular expressions\n",
        "import re\n",
        "# For handling string\n",
        "import string\n",
        "# For performing mathematical operations\n",
        "import math\n",
        "\n",
        "# Importing dataset\n",
        "df=pd.read_csv('amazon_review_american_tourister_bag.csv')\n",
        "#df.SentimentText=df.SentimentText.astype(str)\n",
        "print(\"Shape of data=>\",df.shape)"
      ]
    },
    {
      "cell_type": "code",
      "execution_count": 2,
      "metadata": {
        "colab": {
          "base_uri": "https://localhost:8080/"
        },
        "id": "7-oseUdnAwZD",
        "outputId": "365a081d-fc23-4fa5-85ea-f50696239b8f"
      },
      "outputs": [
        {
          "output_type": "execute_result",
          "data": {
            "text/plain": [
              "Unnamed: 0      0\n",
              "Rating          0\n",
              "Review title    1\n",
              "Review          1\n",
              "dtype: int64"
            ]
          },
          "metadata": {},
          "execution_count": 2
        }
      ],
      "source": [
        "df.isnull().sum()"
      ]
    },
    {
      "cell_type": "code",
      "execution_count": 3,
      "metadata": {
        "id": "04xUGSGpAFg2"
      },
      "outputs": [],
      "source": [
        "df.dropna(subset=['Review title'], inplace = True)"
      ]
    },
    {
      "cell_type": "code",
      "execution_count": 4,
      "metadata": {
        "colab": {
          "base_uri": "https://localhost:8080/"
        },
        "id": "oswmkD7VB38s",
        "outputId": "72ca07f0-3fb0-499a-efab-321c8bb03793"
      },
      "outputs": [
        {
          "output_type": "execute_result",
          "data": {
            "text/plain": [
              "Unnamed: 0      0\n",
              "Rating          0\n",
              "Review title    0\n",
              "Review          0\n",
              "dtype: int64"
            ]
          },
          "metadata": {},
          "execution_count": 4
        }
      ],
      "source": [
        "df.isnull().sum()"
      ]
    },
    {
      "cell_type": "code",
      "execution_count": 5,
      "metadata": {
        "colab": {
          "base_uri": "https://localhost:8080/",
          "height": 363
        },
        "id": "N7pHuMj-AweZ",
        "outputId": "18448b8a-e3fc-47dc-b237-7d07c8763a4a"
      },
      "outputs": [
        {
          "output_type": "execute_result",
          "data": {
            "text/plain": [
              "   Unnamed: 0  Rating                                       Review title  \\\n",
              "0           0       1       I got a defective piece. Since I was not ...   \n",
              "1           1       1                                Do not buy this bag   \n",
              "2           2       2              Disliked the product but <3 to Amazon   \n",
              "3           3       1                                       Poor quality   \n",
              "4           4       5                                         Five Stars   \n",
              "5           5       1                                        Bad quality   \n",
              "6           6       5                             Looks Great and Robust   \n",
              "7           7       4                        Good product at steal price   \n",
              "8           8       2  it looks like a copy and the material quality ...   \n",
              "9           9       1  Duplicate or low quality products are sold on ...   \n",
              "\n",
              "                                              Review  \n",
              "0  I got a defective piece. Since I was not at my...  \n",
              "1  This bag is of the lowest quality you can imag...  \n",
              "2  Received the bag in the worst packaging I have...  \n",
              "3  The stiches of the  bag is started coming out ...  \n",
              "4  Very nice bag ....Very light....And spacious. ...  \n",
              "5  Totally disappointed..Not at all worth buying....  \n",
              "6  I got this for 803 ...at this price it's great...  \n",
              "7  Product is good with classy looks...Have enoug...  \n",
              "8  I got this bag just a moment ago..And my react...  \n",
              "9  Initially the bag was very good. But with the ...  "
            ],
            "text/html": [
              "\n",
              "  <div id=\"df-ef9e2a6b-dad6-4662-b3d2-464e0a28ef5d\">\n",
              "    <div class=\"colab-df-container\">\n",
              "      <div>\n",
              "<style scoped>\n",
              "    .dataframe tbody tr th:only-of-type {\n",
              "        vertical-align: middle;\n",
              "    }\n",
              "\n",
              "    .dataframe tbody tr th {\n",
              "        vertical-align: top;\n",
              "    }\n",
              "\n",
              "    .dataframe thead th {\n",
              "        text-align: right;\n",
              "    }\n",
              "</style>\n",
              "<table border=\"1\" class=\"dataframe\">\n",
              "  <thead>\n",
              "    <tr style=\"text-align: right;\">\n",
              "      <th></th>\n",
              "      <th>Unnamed: 0</th>\n",
              "      <th>Rating</th>\n",
              "      <th>Review title</th>\n",
              "      <th>Review</th>\n",
              "    </tr>\n",
              "  </thead>\n",
              "  <tbody>\n",
              "    <tr>\n",
              "      <th>0</th>\n",
              "      <td>0</td>\n",
              "      <td>1</td>\n",
              "      <td>I got a defective piece. Since I was not ...</td>\n",
              "      <td>I got a defective piece. Since I was not at my...</td>\n",
              "    </tr>\n",
              "    <tr>\n",
              "      <th>1</th>\n",
              "      <td>1</td>\n",
              "      <td>1</td>\n",
              "      <td>Do not buy this bag</td>\n",
              "      <td>This bag is of the lowest quality you can imag...</td>\n",
              "    </tr>\n",
              "    <tr>\n",
              "      <th>2</th>\n",
              "      <td>2</td>\n",
              "      <td>2</td>\n",
              "      <td>Disliked the product but &lt;3 to Amazon</td>\n",
              "      <td>Received the bag in the worst packaging I have...</td>\n",
              "    </tr>\n",
              "    <tr>\n",
              "      <th>3</th>\n",
              "      <td>3</td>\n",
              "      <td>1</td>\n",
              "      <td>Poor quality</td>\n",
              "      <td>The stiches of the  bag is started coming out ...</td>\n",
              "    </tr>\n",
              "    <tr>\n",
              "      <th>4</th>\n",
              "      <td>4</td>\n",
              "      <td>5</td>\n",
              "      <td>Five Stars</td>\n",
              "      <td>Very nice bag ....Very light....And spacious. ...</td>\n",
              "    </tr>\n",
              "    <tr>\n",
              "      <th>5</th>\n",
              "      <td>5</td>\n",
              "      <td>1</td>\n",
              "      <td>Bad quality</td>\n",
              "      <td>Totally disappointed..Not at all worth buying....</td>\n",
              "    </tr>\n",
              "    <tr>\n",
              "      <th>6</th>\n",
              "      <td>6</td>\n",
              "      <td>5</td>\n",
              "      <td>Looks Great and Robust</td>\n",
              "      <td>I got this for 803 ...at this price it's great...</td>\n",
              "    </tr>\n",
              "    <tr>\n",
              "      <th>7</th>\n",
              "      <td>7</td>\n",
              "      <td>4</td>\n",
              "      <td>Good product at steal price</td>\n",
              "      <td>Product is good with classy looks...Have enoug...</td>\n",
              "    </tr>\n",
              "    <tr>\n",
              "      <th>8</th>\n",
              "      <td>8</td>\n",
              "      <td>2</td>\n",
              "      <td>it looks like a copy and the material quality ...</td>\n",
              "      <td>I got this bag just a moment ago..And my react...</td>\n",
              "    </tr>\n",
              "    <tr>\n",
              "      <th>9</th>\n",
              "      <td>9</td>\n",
              "      <td>1</td>\n",
              "      <td>Duplicate or low quality products are sold on ...</td>\n",
              "      <td>Initially the bag was very good. But with the ...</td>\n",
              "    </tr>\n",
              "  </tbody>\n",
              "</table>\n",
              "</div>\n",
              "      <button class=\"colab-df-convert\" onclick=\"convertToInteractive('df-ef9e2a6b-dad6-4662-b3d2-464e0a28ef5d')\"\n",
              "              title=\"Convert this dataframe to an interactive table.\"\n",
              "              style=\"display:none;\">\n",
              "        \n",
              "  <svg xmlns=\"http://www.w3.org/2000/svg\" height=\"24px\"viewBox=\"0 0 24 24\"\n",
              "       width=\"24px\">\n",
              "    <path d=\"M0 0h24v24H0V0z\" fill=\"none\"/>\n",
              "    <path d=\"M18.56 5.44l.94 2.06.94-2.06 2.06-.94-2.06-.94-.94-2.06-.94 2.06-2.06.94zm-11 1L8.5 8.5l.94-2.06 2.06-.94-2.06-.94L8.5 2.5l-.94 2.06-2.06.94zm10 10l.94 2.06.94-2.06 2.06-.94-2.06-.94-.94-2.06-.94 2.06-2.06.94z\"/><path d=\"M17.41 7.96l-1.37-1.37c-.4-.4-.92-.59-1.43-.59-.52 0-1.04.2-1.43.59L10.3 9.45l-7.72 7.72c-.78.78-.78 2.05 0 2.83L4 21.41c.39.39.9.59 1.41.59.51 0 1.02-.2 1.41-.59l7.78-7.78 2.81-2.81c.8-.78.8-2.07 0-2.86zM5.41 20L4 18.59l7.72-7.72 1.47 1.35L5.41 20z\"/>\n",
              "  </svg>\n",
              "      </button>\n",
              "      \n",
              "  <style>\n",
              "    .colab-df-container {\n",
              "      display:flex;\n",
              "      flex-wrap:wrap;\n",
              "      gap: 12px;\n",
              "    }\n",
              "\n",
              "    .colab-df-convert {\n",
              "      background-color: #E8F0FE;\n",
              "      border: none;\n",
              "      border-radius: 50%;\n",
              "      cursor: pointer;\n",
              "      display: none;\n",
              "      fill: #1967D2;\n",
              "      height: 32px;\n",
              "      padding: 0 0 0 0;\n",
              "      width: 32px;\n",
              "    }\n",
              "\n",
              "    .colab-df-convert:hover {\n",
              "      background-color: #E2EBFA;\n",
              "      box-shadow: 0px 1px 2px rgba(60, 64, 67, 0.3), 0px 1px 3px 1px rgba(60, 64, 67, 0.15);\n",
              "      fill: #174EA6;\n",
              "    }\n",
              "\n",
              "    [theme=dark] .colab-df-convert {\n",
              "      background-color: #3B4455;\n",
              "      fill: #D2E3FC;\n",
              "    }\n",
              "\n",
              "    [theme=dark] .colab-df-convert:hover {\n",
              "      background-color: #434B5C;\n",
              "      box-shadow: 0px 1px 3px 1px rgba(0, 0, 0, 0.15);\n",
              "      filter: drop-shadow(0px 1px 2px rgba(0, 0, 0, 0.3));\n",
              "      fill: #FFFFFF;\n",
              "    }\n",
              "  </style>\n",
              "\n",
              "      <script>\n",
              "        const buttonEl =\n",
              "          document.querySelector('#df-ef9e2a6b-dad6-4662-b3d2-464e0a28ef5d button.colab-df-convert');\n",
              "        buttonEl.style.display =\n",
              "          google.colab.kernel.accessAllowed ? 'block' : 'none';\n",
              "\n",
              "        async function convertToInteractive(key) {\n",
              "          const element = document.querySelector('#df-ef9e2a6b-dad6-4662-b3d2-464e0a28ef5d');\n",
              "          const dataTable =\n",
              "            await google.colab.kernel.invokeFunction('convertToInteractive',\n",
              "                                                     [key], {});\n",
              "          if (!dataTable) return;\n",
              "\n",
              "          const docLinkHtml = 'Like what you see? Visit the ' +\n",
              "            '<a target=\"_blank\" href=https://colab.research.google.com/notebooks/data_table.ipynb>data table notebook</a>'\n",
              "            + ' to learn more about interactive tables.';\n",
              "          element.innerHTML = '';\n",
              "          dataTable['output_type'] = 'display_data';\n",
              "          await google.colab.output.renderOutput(dataTable, element);\n",
              "          const docLink = document.createElement('div');\n",
              "          docLink.innerHTML = docLinkHtml;\n",
              "          element.appendChild(docLink);\n",
              "        }\n",
              "      </script>\n",
              "    </div>\n",
              "  </div>\n",
              "  "
            ]
          },
          "metadata": {},
          "execution_count": 5
        }
      ],
      "source": [
        "df.head(10)"
      ]
    },
    {
      "cell_type": "code",
      "execution_count": 6,
      "metadata": {
        "colab": {
          "base_uri": "https://localhost:8080/"
        },
        "id": "vGN31efzC9Hh",
        "outputId": "e3caf11b-5630-4588-d218-1a87c39ad894"
      },
      "outputs": [
        {
          "output_type": "stream",
          "name": "stdout",
          "text": [
            "Review 1:\n",
            " Good quality best product fast delivery and made with best quality of material and awesome size good colour best zip many pockets\n",
            "Review 2:\n",
            " It is a good bag light weight and the stickers will not fade I am using it for 6 months. honest review the bag is good for that price so much spaces inside the bag I am using it every day the packaging is very good I love this bag nice design. And the stitches are very tough good product from American Tourister.I had not faced any problems while using this bag till now. The bag is not water resistant. Value for money\n",
            "Review 3:\n",
            " Ordered this for my niece who is in class 9, she liked it as it can fit all her stuff and is easy to carry. All the zips and pockets are still working without any issue after 4 months. But now it's not being used very much  as all the schools are shut indefinitely.  But the bag is good , there is no issue that we faced.\n",
            "Review 4:\n",
            " The product is superb with light weight.the only thing is missing is the key chain which is being provided by the brand. And the warranty card seller stamping is not done.\n",
            "Review 5:\n",
            " This product is good. But it does have many flaws. First of all the Sticthing is not upto the mark. Secondly it doesn't have a laptop carrying space( it is mentioned in the specs also). Thirdly the material which is used is not that good especially the interior spaces.The good part is it is very much light weighed. Abundance of space for a bag of this size. For 850₹ this bag is ok. First look is stylish.\n",
            "Review 6:\n",
            " Writing tjis review after using this product for some weeksFirst i have to say one thing that this is absolute worth for moneyIts water resistant and they are also  providing a rain coat with itIt's user friendly bcz its light weiaght and have enough space for keeping the things inIt's perfect for school, office, and travel purposesMy younger brother is also using this productIt's absolutely perfect for any purposes and for all age group\n",
            "Review 7:\n",
            " Dear friend , I ordered this bag and now I fully satisfy with its quality and space in it. And delivery was too good. I purchase it 918 rs and after I got some another discount so effective price is 780 rs. So if u want buy this bag so u can purchase it.\n",
            "Review 8:\n",
            " The colour is not as bright as shown in the images its very fade,the straps have very less cushioning and the bag material also feels cheap, padding is not adequate you can find better quality bags than this in your nearest store,dont go fot it.\n",
            "Review 9:\n",
            " This is just 4-500 rs bag or better to say the 2nd copy of the American Tourister. The overall quality is the lowest - doesn't match from an inch of original A.T products. I am returning this product just after 30 minutes of receiving.\n"
          ]
        }
      ],
      "source": [
        "for index,text in enumerate(df['Review'][31:40]):\n",
        "  print('Review %d:\\n'%(index+1),text)"
      ]
    },
    {
      "cell_type": "code",
      "execution_count": 7,
      "metadata": {
        "id": "GRUoaE-EC9J8"
      },
      "outputs": [],
      "source": [
        "contractions_dict = { \"ain't\": \"are not\",\"'s\":\" is\",\"aren't\": \"are not\",\n",
        "                     \"can't\": \"cannot\",\"can't've\": \"cannot have\",\n",
        "                     \"'cause\": \"because\",\"could've\": \"could have\",\"couldn't\": \"could not\",\n",
        "                     \"couldn't've\": \"could not have\", \"didn't\": \"did not\",\"doesn't\": \"does not\",\n",
        "                     \"don't\": \"do not\",\"hadn't\": \"had not\",\"hadn't've\": \"had not have\",\n",
        "                     \"hasn't\": \"has not\",\"haven't\": \"have not\",\"he'd\": \"he would\",\n",
        "                     \"he'd've\": \"he would have\",\"he'll\": \"he will\", \"he'll've\": \"he will have\",\n",
        "                     \"how'd\": \"how did\",\"how'd'y\": \"how do you\",\"how'll\": \"how will\",\n",
        "                     \"I'd\": \"I would\", \"I'd've\": \"I would have\",\"I'll\": \"I will\",\n",
        "                     \"I'll've\": \"I will have\",\"I'm\": \"I am\",\"I've\": \"I have\", \"isn't\": \"is not\",\n",
        "                     \"it'd\": \"it would\",\"it'd've\": \"it would have\",\"it'll\": \"it will\",\n",
        "                     \"it'll've\": \"it will have\", \"let's\": \"let us\",\"ma'am\": \"madam\",\n",
        "                     \"mayn't\": \"may not\",\"might've\": \"might have\",\"mightn't\": \"might not\", \n",
        "                     \"mightn't've\": \"might not have\",\"must've\": \"must have\",\"mustn't\": \"must not\",\n",
        "                     \"mustn't've\": \"must not have\", \"needn't\": \"need not\",\n",
        "                     \"needn't've\": \"need not have\",\"o'clock\": \"of the clock\",\"oughtn't\": \"ought not\",\n",
        "                     \"oughtn't've\": \"ought not have\",\"shan't\": \"shall not\",\"sha'n't\": \"shall not\",\n",
        "                     \"shan't've\": \"shall not have\",\"she'd\": \"she would\",\"she'd've\": \"she would have\",\n",
        "                     \"she'll\": \"she will\", \"she'll've\": \"she will have\",\"should've\": \"should have\",\n",
        "                     \"shouldn't\": \"should not\", \"shouldn't've\": \"should not have\",\"so've\": \"so have\",\n",
        "                     \"that'd\": \"that would\",\"that'd've\": \"that would have\", \"there'd\": \"there would\",\n",
        "                     \"there'd've\": \"there would have\", \"they'd\": \"they would\",\n",
        "                     \"they'd've\": \"they would have\",\"they'll\": \"they will\",\n",
        "                     \"they'll've\": \"they will have\", \"they're\": \"they are\",\"they've\": \"they have\",\n",
        "                     \"to've\": \"to have\",\"wasn't\": \"was not\",\"we'd\": \"we would\",\n",
        "                     \"we'd've\": \"we would have\",\"we'll\": \"we will\",\"we'll've\": \"we will have\",\n",
        "                     \"we're\": \"we are\",\"we've\": \"we have\", \"weren't\": \"were not\",\"what'll\": \"what will\",\n",
        "                     \"what'll've\": \"what will have\",\"what're\": \"what are\", \"what've\": \"what have\",\n",
        "                     \"when've\": \"when have\",\"where'd\": \"where did\", \"where've\": \"where have\",\n",
        "                     \"who'll\": \"who will\",\"who'll've\": \"who will have\",\"who've\": \"who have\",\n",
        "                     \"why've\": \"why have\",\"will've\": \"will have\",\"won't\": \"will not\",\n",
        "                     \"won't've\": \"will not have\", \"would've\": \"would have\",\"wouldn't\": \"would not\",\n",
        "                     \"wouldn't've\": \"would not have\",\"y'all\": \"you all\", \"y'all'd\": \"you all would\",\n",
        "                     \"y'all'd've\": \"you all would have\",\"y'all're\": \"you all are\",\n",
        "                     \"y'all've\": \"you all have\", \"you'd\": \"you would\",\"you'd've\": \"you would have\",\n",
        "                     \"you'll\": \"you will\",\"you'll've\": \"you will have\", \"you're\": \"you are\",\n",
        "                     \"you've\": \"you have\"}\n",
        "\n",
        "# Regular expression for finding contractions\n",
        "contractions_re=re.compile('(%s)' % '|'.join(contractions_dict.keys()))\n",
        "\n",
        "# Function for expanding contractions\n",
        "def expand_contractions(text,contractions_dict=contractions_dict):\n",
        "  def replace(match):\n",
        "    return contractions_dict[match.group(0)]\n",
        "  return contractions_re.sub(replace, text)\n",
        "\n",
        "# Expanding Contractions in the reviews\n",
        "df['Review']=df['Review'].apply(lambda x:expand_contractions(x))"
      ]
    },
    {
      "cell_type": "code",
      "execution_count": 8,
      "metadata": {
        "id": "J0waso9DC9MP"
      },
      "outputs": [],
      "source": [
        "# df['cleaned']=df['Review'].apply(lambda x: x.lower())\n",
        "# df['Review title']=df['Review title'].apply(lambda x: x.lower())"
      ]
    },
    {
      "cell_type": "code",
      "execution_count": 9,
      "metadata": {
        "colab": {
          "base_uri": "https://localhost:8080/",
          "height": 206
        },
        "id": "UJS8XoZYAwgx",
        "outputId": "558117f5-23d3-454f-aa36-5834f9bd9782"
      },
      "outputs": [
        {
          "output_type": "execute_result",
          "data": {
            "text/plain": [
              "   Unnamed: 0  Rating                                  Review title  \\\n",
              "0           0       1  I got a defective piece. Since I was not ...   \n",
              "1           1       1                           Do not buy this bag   \n",
              "2           2       2         Disliked the product but <3 to Amazon   \n",
              "3           3       1                                  Poor quality   \n",
              "4           4       5                                    Five Stars   \n",
              "\n",
              "                                              Review  \n",
              "0  I got a defective piece. Since I was not at my...  \n",
              "1  This bag is of the lowest quality you can imag...  \n",
              "2  Received the bag in the worst packaging I have...  \n",
              "3  The stiches of the  bag is started coming out ...  \n",
              "4  Very nice bag ....Very light....And spacious. ...  "
            ],
            "text/html": [
              "\n",
              "  <div id=\"df-72c46fac-b481-481a-ab10-b69542b1e8cf\">\n",
              "    <div class=\"colab-df-container\">\n",
              "      <div>\n",
              "<style scoped>\n",
              "    .dataframe tbody tr th:only-of-type {\n",
              "        vertical-align: middle;\n",
              "    }\n",
              "\n",
              "    .dataframe tbody tr th {\n",
              "        vertical-align: top;\n",
              "    }\n",
              "\n",
              "    .dataframe thead th {\n",
              "        text-align: right;\n",
              "    }\n",
              "</style>\n",
              "<table border=\"1\" class=\"dataframe\">\n",
              "  <thead>\n",
              "    <tr style=\"text-align: right;\">\n",
              "      <th></th>\n",
              "      <th>Unnamed: 0</th>\n",
              "      <th>Rating</th>\n",
              "      <th>Review title</th>\n",
              "      <th>Review</th>\n",
              "    </tr>\n",
              "  </thead>\n",
              "  <tbody>\n",
              "    <tr>\n",
              "      <th>0</th>\n",
              "      <td>0</td>\n",
              "      <td>1</td>\n",
              "      <td>I got a defective piece. Since I was not ...</td>\n",
              "      <td>I got a defective piece. Since I was not at my...</td>\n",
              "    </tr>\n",
              "    <tr>\n",
              "      <th>1</th>\n",
              "      <td>1</td>\n",
              "      <td>1</td>\n",
              "      <td>Do not buy this bag</td>\n",
              "      <td>This bag is of the lowest quality you can imag...</td>\n",
              "    </tr>\n",
              "    <tr>\n",
              "      <th>2</th>\n",
              "      <td>2</td>\n",
              "      <td>2</td>\n",
              "      <td>Disliked the product but &lt;3 to Amazon</td>\n",
              "      <td>Received the bag in the worst packaging I have...</td>\n",
              "    </tr>\n",
              "    <tr>\n",
              "      <th>3</th>\n",
              "      <td>3</td>\n",
              "      <td>1</td>\n",
              "      <td>Poor quality</td>\n",
              "      <td>The stiches of the  bag is started coming out ...</td>\n",
              "    </tr>\n",
              "    <tr>\n",
              "      <th>4</th>\n",
              "      <td>4</td>\n",
              "      <td>5</td>\n",
              "      <td>Five Stars</td>\n",
              "      <td>Very nice bag ....Very light....And spacious. ...</td>\n",
              "    </tr>\n",
              "  </tbody>\n",
              "</table>\n",
              "</div>\n",
              "      <button class=\"colab-df-convert\" onclick=\"convertToInteractive('df-72c46fac-b481-481a-ab10-b69542b1e8cf')\"\n",
              "              title=\"Convert this dataframe to an interactive table.\"\n",
              "              style=\"display:none;\">\n",
              "        \n",
              "  <svg xmlns=\"http://www.w3.org/2000/svg\" height=\"24px\"viewBox=\"0 0 24 24\"\n",
              "       width=\"24px\">\n",
              "    <path d=\"M0 0h24v24H0V0z\" fill=\"none\"/>\n",
              "    <path d=\"M18.56 5.44l.94 2.06.94-2.06 2.06-.94-2.06-.94-.94-2.06-.94 2.06-2.06.94zm-11 1L8.5 8.5l.94-2.06 2.06-.94-2.06-.94L8.5 2.5l-.94 2.06-2.06.94zm10 10l.94 2.06.94-2.06 2.06-.94-2.06-.94-.94-2.06-.94 2.06-2.06.94z\"/><path d=\"M17.41 7.96l-1.37-1.37c-.4-.4-.92-.59-1.43-.59-.52 0-1.04.2-1.43.59L10.3 9.45l-7.72 7.72c-.78.78-.78 2.05 0 2.83L4 21.41c.39.39.9.59 1.41.59.51 0 1.02-.2 1.41-.59l7.78-7.78 2.81-2.81c.8-.78.8-2.07 0-2.86zM5.41 20L4 18.59l7.72-7.72 1.47 1.35L5.41 20z\"/>\n",
              "  </svg>\n",
              "      </button>\n",
              "      \n",
              "  <style>\n",
              "    .colab-df-container {\n",
              "      display:flex;\n",
              "      flex-wrap:wrap;\n",
              "      gap: 12px;\n",
              "    }\n",
              "\n",
              "    .colab-df-convert {\n",
              "      background-color: #E8F0FE;\n",
              "      border: none;\n",
              "      border-radius: 50%;\n",
              "      cursor: pointer;\n",
              "      display: none;\n",
              "      fill: #1967D2;\n",
              "      height: 32px;\n",
              "      padding: 0 0 0 0;\n",
              "      width: 32px;\n",
              "    }\n",
              "\n",
              "    .colab-df-convert:hover {\n",
              "      background-color: #E2EBFA;\n",
              "      box-shadow: 0px 1px 2px rgba(60, 64, 67, 0.3), 0px 1px 3px 1px rgba(60, 64, 67, 0.15);\n",
              "      fill: #174EA6;\n",
              "    }\n",
              "\n",
              "    [theme=dark] .colab-df-convert {\n",
              "      background-color: #3B4455;\n",
              "      fill: #D2E3FC;\n",
              "    }\n",
              "\n",
              "    [theme=dark] .colab-df-convert:hover {\n",
              "      background-color: #434B5C;\n",
              "      box-shadow: 0px 1px 3px 1px rgba(0, 0, 0, 0.15);\n",
              "      filter: drop-shadow(0px 1px 2px rgba(0, 0, 0, 0.3));\n",
              "      fill: #FFFFFF;\n",
              "    }\n",
              "  </style>\n",
              "\n",
              "      <script>\n",
              "        const buttonEl =\n",
              "          document.querySelector('#df-72c46fac-b481-481a-ab10-b69542b1e8cf button.colab-df-convert');\n",
              "        buttonEl.style.display =\n",
              "          google.colab.kernel.accessAllowed ? 'block' : 'none';\n",
              "\n",
              "        async function convertToInteractive(key) {\n",
              "          const element = document.querySelector('#df-72c46fac-b481-481a-ab10-b69542b1e8cf');\n",
              "          const dataTable =\n",
              "            await google.colab.kernel.invokeFunction('convertToInteractive',\n",
              "                                                     [key], {});\n",
              "          if (!dataTable) return;\n",
              "\n",
              "          const docLinkHtml = 'Like what you see? Visit the ' +\n",
              "            '<a target=\"_blank\" href=https://colab.research.google.com/notebooks/data_table.ipynb>data table notebook</a>'\n",
              "            + ' to learn more about interactive tables.';\n",
              "          element.innerHTML = '';\n",
              "          dataTable['output_type'] = 'display_data';\n",
              "          await google.colab.output.renderOutput(dataTable, element);\n",
              "          const docLink = document.createElement('div');\n",
              "          docLink.innerHTML = docLinkHtml;\n",
              "          element.appendChild(docLink);\n",
              "        }\n",
              "      </script>\n",
              "    </div>\n",
              "  </div>\n",
              "  "
            ]
          },
          "metadata": {},
          "execution_count": 9
        }
      ],
      "source": [
        "df.head()"
      ]
    },
    {
      "cell_type": "code",
      "execution_count": 10,
      "metadata": {
        "id": "WegNx8QsKBVY"
      },
      "outputs": [],
      "source": [
        "# Remove digits and words containing digits\n",
        "df['cleaned']=df['Review'].apply(lambda x: re.sub('\\w*\\d\\w*',' ', x))"
      ]
    },
    {
      "cell_type": "code",
      "execution_count": 11,
      "metadata": {
        "id": "SWKuy2u_KBYW"
      },
      "outputs": [],
      "source": [
        "# Remove punctuation\n",
        "df['cleaned']=df['cleaned'].apply(lambda x: re.sub('[%s]' % re.escape(string.punctuation), ' ', x))"
      ]
    },
    {
      "cell_type": "code",
      "execution_count": 12,
      "metadata": {
        "id": "9Ltd4t5uKBgA"
      },
      "outputs": [],
      "source": [
        "# Remove extra spaces\n",
        "df['cleaned']=df['cleaned'].apply(lambda x: re.sub(' +',' ',x))"
      ]
    },
    {
      "cell_type": "code",
      "execution_count": 13,
      "metadata": {
        "colab": {
          "base_uri": "https://localhost:8080/"
        },
        "id": "b3XTkz1mKbxI",
        "outputId": "67117d13-578a-4dc8-d3d0-5fbb752088b5"
      },
      "outputs": [
        {
          "output_type": "stream",
          "name": "stdout",
          "text": [
            "Review 1:\n",
            " Good quality best product fast delivery and made with best quality of material and awesome size good colour best zip many pockets\n",
            "Review 2:\n",
            " It is a good bag light weight and the stickers will not fade I am using it for months honest review the bag is good for that price so much spaces inside the bag I am using it every day the packaging is very good I love this bag nice design And the stitches are very tough good product from American Tourister I had not faced any problems while using this bag till now The bag is not water resistant Value for money\n",
            "Review 3:\n",
            " Ordered this for my niece who is in class she liked it as it can fit all her stuff and is easy to carry All the zips and pockets are still working without any issue after months But now it is not being used very much as all the schools are shut indefinitely But the bag is good there is no issue that we faced \n",
            "Review 4:\n",
            " The product is superb with light weight the only thing is missing is the key chain which is being provided by the brand And the warranty card seller stamping is not done \n",
            "Review 5:\n",
            " This product is good But it does have many flaws First of all the Sticthing is not upto the mark Secondly it does not have a laptop carrying space it is mentioned in the specs also Thirdly the material which is used is not that good especially the interior spaces The good part is it is very much light weighed Abundance of space for a bag of this size For ₹ this bag is ok First look is stylish \n",
            "Review 6:\n",
            " Writing tjis review after using this product for some weeksFirst i have to say one thing that this is absolute worth for moneyIts water resistant and they are also providing a rain coat with itIt is user friendly bcz its light weiaght and have enough space for keeping the things inIt is perfect for school office and travel purposesMy younger brother is also using this productIt is absolutely perfect for any purposes and for all age group\n",
            "Review 7:\n",
            " Dear friend I ordered this bag and now I fully satisfy with its quality and space in it And delivery was too good I purchase it rs and after I got some another discount so effective price is rs So if u want buy this bag so u can purchase it \n",
            "Review 8:\n",
            " The colour is not as bright as shown in the images its very fade the straps have very less cushioning and the bag material also feels cheap padding is not adequate you can find better quality bags than this in your nearest store dont go fot it \n",
            "Review 9:\n",
            " This is just rs bag or better to say the copy of the American Tourister The overall quality is the lowest does not match from an inch of original A T products I am returning this product just after minutes of receiving \n"
          ]
        }
      ],
      "source": [
        "for index,text in enumerate(df['cleaned'][31:40]):\n",
        "  print('Review %d:\\n'%(index+1),text)"
      ]
    },
    {
      "cell_type": "code",
      "execution_count": 14,
      "metadata": {
        "id": "1JH2hB6oKzI4"
      },
      "outputs": [],
      "source": [
        "import spacy\n",
        "\n",
        "# Loading model\n",
        "nlp = spacy.load('en_core_web_sm',disable=['parser', 'ner'])\n",
        "\n",
        "# Lemmatization with stopwords removal\n",
        "df['lemmatized']=df['cleaned'].apply(lambda x: ' '.join([token.lemma_ for token in list(nlp(x)) if (token.is_stop==False)]))"
      ]
    },
    {
      "cell_type": "code",
      "execution_count": 15,
      "metadata": {
        "colab": {
          "base_uri": "https://localhost:8080/"
        },
        "id": "xTSfCKp-L2kK",
        "outputId": "d9cf872e-1255-4348-f122-fe799abee08b"
      },
      "outputs": [
        {
          "output_type": "stream",
          "name": "stdout",
          "text": [
            "Review 1:\n",
            " Good quality best product fast delivery and made with best quality of material and awesome size good colour best zip many pockets\n",
            "Review 2:\n",
            " It is a good bag light weight and the stickers will not fade I am using it for months honest review the bag is good for that price so much spaces inside the bag I am using it every day the packaging is very good I love this bag nice design And the stitches are very tough good product from American Tourister I had not faced any problems while using this bag till now The bag is not water resistant Value for money\n",
            "Review 3:\n",
            " Ordered this for my niece who is in class she liked it as it can fit all her stuff and is easy to carry All the zips and pockets are still working without any issue after months But now it is not being used very much as all the schools are shut indefinitely But the bag is good there is no issue that we faced \n",
            "Review 4:\n",
            " The product is superb with light weight the only thing is missing is the key chain which is being provided by the brand And the warranty card seller stamping is not done \n",
            "Review 5:\n",
            " This product is good But it does have many flaws First of all the Sticthing is not upto the mark Secondly it does not have a laptop carrying space it is mentioned in the specs also Thirdly the material which is used is not that good especially the interior spaces The good part is it is very much light weighed Abundance of space for a bag of this size For ₹ this bag is ok First look is stylish \n",
            "Review 6:\n",
            " Writing tjis review after using this product for some weeksFirst i have to say one thing that this is absolute worth for moneyIts water resistant and they are also providing a rain coat with itIt is user friendly bcz its light weiaght and have enough space for keeping the things inIt is perfect for school office and travel purposesMy younger brother is also using this productIt is absolutely perfect for any purposes and for all age group\n",
            "Review 7:\n",
            " Dear friend I ordered this bag and now I fully satisfy with its quality and space in it And delivery was too good I purchase it rs and after I got some another discount so effective price is rs So if u want buy this bag so u can purchase it \n",
            "Review 8:\n",
            " The colour is not as bright as shown in the images its very fade the straps have very less cushioning and the bag material also feels cheap padding is not adequate you can find better quality bags than this in your nearest store dont go fot it \n",
            "Review 9:\n",
            " This is just rs bag or better to say the copy of the American Tourister The overall quality is the lowest does not match from an inch of original A T products I am returning this product just after minutes of receiving \n"
          ]
        }
      ],
      "source": [
        "for index,text in enumerate(df['cleaned'][31:40]):\n",
        "  print('Review %d:\\n'%(index+1),text)"
      ]
    },
    {
      "cell_type": "code",
      "execution_count": 16,
      "metadata": {
        "colab": {
          "base_uri": "https://localhost:8080/",
          "height": 52
        },
        "id": "xbfiX_uJNEGc",
        "outputId": "46f368bb-d89c-4dd2-dcdc-ec5e7bc7583b"
      },
      "outputs": [
        {
          "output_type": "execute_result",
          "data": {
            "text/plain": [
              "\"from sklearn.feature_extraction.text import CountVectorizer\\ncv=CountVectorizer(analyzer='word')\\ndata=cv.fit_transform(df['lemmatized'])\\ndf_dtm = pd.DataFrame(data.toarray(), columns=cv.get_feature_names())\\ndf_dtm.index=df.index\\ndf_dtm.head(10)\""
            ],
            "application/vnd.google.colaboratory.intrinsic+json": {
              "type": "string"
            }
          },
          "metadata": {},
          "execution_count": 16
        }
      ],
      "source": [
        "# Creating Document Term Matrix\n",
        "'''from sklearn.feature_extraction.text import CountVectorizer\n",
        "cv=CountVectorizer(analyzer='word')\n",
        "data=cv.fit_transform(df['lemmatized'])\n",
        "df_dtm = pd.DataFrame(data.toarray(), columns=cv.get_feature_names())\n",
        "df_dtm.index=df.index\n",
        "df_dtm.head(10)'''"
      ]
    },
    {
      "cell_type": "code",
      "execution_count": 17,
      "metadata": {
        "id": "U9DAUgVgNEMG"
      },
      "outputs": [],
      "source": [
        "from textblob import TextBlob\n",
        "df['polarity'] = df['lemmatized'].apply(lambda x: TextBlob(x).sentiment.polarity)"
      ]
    },
    {
      "cell_type": "code",
      "execution_count": 18,
      "metadata": {
        "id": "dZfWwZWZDIVC"
      },
      "outputs": [],
      "source": [
        "df['review_len'] = df['lemmatized'].apply(lambda x: len(x))"
      ]
    },
    {
      "cell_type": "code",
      "execution_count": 19,
      "metadata": {
        "id": "mD41QwM_Gf5X"
      },
      "outputs": [],
      "source": [
        "def get_avg_word_len(x):\n",
        "  words = x.split()\n",
        "  word_len = 0\n",
        "  for word in words:\n",
        "    word_len = word_len + len(word)\n",
        "  if (len(words) != 0):\n",
        "    return word_len/len(words)"
      ]
    },
    {
      "cell_type": "code",
      "execution_count": 20,
      "metadata": {
        "id": "hRjr5SIOGgKn"
      },
      "outputs": [],
      "source": [
        "df['avg_word_len'] = df['lemmatized'].apply(lambda x: get_avg_word_len(x))"
      ]
    },
    {
      "cell_type": "code",
      "execution_count": 21,
      "metadata": {
        "colab": {
          "base_uri": "https://localhost:8080/",
          "height": 354
        },
        "id": "0RXpa4XHIJO7",
        "outputId": "4b6b6337-c994-4164-fcdf-0c95334a6e5e"
      },
      "outputs": [
        {
          "output_type": "execute_result",
          "data": {
            "text/plain": [
              "   Unnamed: 0  Rating                                  Review title  \\\n",
              "0           0       1  I got a defective piece. Since I was not ...   \n",
              "1           1       1                           Do not buy this bag   \n",
              "2           2       2         Disliked the product but <3 to Amazon   \n",
              "3           3       1                                  Poor quality   \n",
              "4           4       5                                    Five Stars   \n",
              "\n",
              "                                              Review  \\\n",
              "0  I got a defective piece. Since I was not at my...   \n",
              "1  This bag is of the lowest quality you can imag...   \n",
              "2  Received the bag in the worst packaging I have...   \n",
              "3  The stiches of the  bag is started coming out ...   \n",
              "4  Very nice bag ....Very light....And spacious. ...   \n",
              "\n",
              "                                             cleaned  \\\n",
              "0  I got a defective piece Since I was not at my ...   \n",
              "1  This bag is of the lowest quality you can imag...   \n",
              "2  Received the bag in the worst packaging I have...   \n",
              "3  The stiches of the bag is started coming out i...   \n",
              "4             Very nice bag Very light And spacious    \n",
              "\n",
              "                                          lemmatized  polarity  review_len  \\\n",
              "0  get defective piece home delivery period ask r...  0.000000          86   \n",
              "1  bag low quality imagine sure duplicate origina...  0.095000          89   \n",
              "2  receive bag bad packaging see e commerce exper... -0.183333         174   \n",
              "3  stiche bag start come month feel cloth poor qu... -0.400000         146   \n",
              "4                            nice bag light spacious  0.500000          23   \n",
              "\n",
              "   avg_word_len  \n",
              "0      6.250000  \n",
              "1      5.428571  \n",
              "2      5.730769  \n",
              "3      5.681818  \n",
              "4      5.000000  "
            ],
            "text/html": [
              "\n",
              "  <div id=\"df-51697e56-7f49-4835-af0e-105bdfdbd7cf\">\n",
              "    <div class=\"colab-df-container\">\n",
              "      <div>\n",
              "<style scoped>\n",
              "    .dataframe tbody tr th:only-of-type {\n",
              "        vertical-align: middle;\n",
              "    }\n",
              "\n",
              "    .dataframe tbody tr th {\n",
              "        vertical-align: top;\n",
              "    }\n",
              "\n",
              "    .dataframe thead th {\n",
              "        text-align: right;\n",
              "    }\n",
              "</style>\n",
              "<table border=\"1\" class=\"dataframe\">\n",
              "  <thead>\n",
              "    <tr style=\"text-align: right;\">\n",
              "      <th></th>\n",
              "      <th>Unnamed: 0</th>\n",
              "      <th>Rating</th>\n",
              "      <th>Review title</th>\n",
              "      <th>Review</th>\n",
              "      <th>cleaned</th>\n",
              "      <th>lemmatized</th>\n",
              "      <th>polarity</th>\n",
              "      <th>review_len</th>\n",
              "      <th>avg_word_len</th>\n",
              "    </tr>\n",
              "  </thead>\n",
              "  <tbody>\n",
              "    <tr>\n",
              "      <th>0</th>\n",
              "      <td>0</td>\n",
              "      <td>1</td>\n",
              "      <td>I got a defective piece. Since I was not ...</td>\n",
              "      <td>I got a defective piece. Since I was not at my...</td>\n",
              "      <td>I got a defective piece Since I was not at my ...</td>\n",
              "      <td>get defective piece home delivery period ask r...</td>\n",
              "      <td>0.000000</td>\n",
              "      <td>86</td>\n",
              "      <td>6.250000</td>\n",
              "    </tr>\n",
              "    <tr>\n",
              "      <th>1</th>\n",
              "      <td>1</td>\n",
              "      <td>1</td>\n",
              "      <td>Do not buy this bag</td>\n",
              "      <td>This bag is of the lowest quality you can imag...</td>\n",
              "      <td>This bag is of the lowest quality you can imag...</td>\n",
              "      <td>bag low quality imagine sure duplicate origina...</td>\n",
              "      <td>0.095000</td>\n",
              "      <td>89</td>\n",
              "      <td>5.428571</td>\n",
              "    </tr>\n",
              "    <tr>\n",
              "      <th>2</th>\n",
              "      <td>2</td>\n",
              "      <td>2</td>\n",
              "      <td>Disliked the product but &lt;3 to Amazon</td>\n",
              "      <td>Received the bag in the worst packaging I have...</td>\n",
              "      <td>Received the bag in the worst packaging I have...</td>\n",
              "      <td>receive bag bad packaging see e commerce exper...</td>\n",
              "      <td>-0.183333</td>\n",
              "      <td>174</td>\n",
              "      <td>5.730769</td>\n",
              "    </tr>\n",
              "    <tr>\n",
              "      <th>3</th>\n",
              "      <td>3</td>\n",
              "      <td>1</td>\n",
              "      <td>Poor quality</td>\n",
              "      <td>The stiches of the  bag is started coming out ...</td>\n",
              "      <td>The stiches of the bag is started coming out i...</td>\n",
              "      <td>stiche bag start come month feel cloth poor qu...</td>\n",
              "      <td>-0.400000</td>\n",
              "      <td>146</td>\n",
              "      <td>5.681818</td>\n",
              "    </tr>\n",
              "    <tr>\n",
              "      <th>4</th>\n",
              "      <td>4</td>\n",
              "      <td>5</td>\n",
              "      <td>Five Stars</td>\n",
              "      <td>Very nice bag ....Very light....And spacious. ...</td>\n",
              "      <td>Very nice bag Very light And spacious</td>\n",
              "      <td>nice bag light spacious</td>\n",
              "      <td>0.500000</td>\n",
              "      <td>23</td>\n",
              "      <td>5.000000</td>\n",
              "    </tr>\n",
              "  </tbody>\n",
              "</table>\n",
              "</div>\n",
              "      <button class=\"colab-df-convert\" onclick=\"convertToInteractive('df-51697e56-7f49-4835-af0e-105bdfdbd7cf')\"\n",
              "              title=\"Convert this dataframe to an interactive table.\"\n",
              "              style=\"display:none;\">\n",
              "        \n",
              "  <svg xmlns=\"http://www.w3.org/2000/svg\" height=\"24px\"viewBox=\"0 0 24 24\"\n",
              "       width=\"24px\">\n",
              "    <path d=\"M0 0h24v24H0V0z\" fill=\"none\"/>\n",
              "    <path d=\"M18.56 5.44l.94 2.06.94-2.06 2.06-.94-2.06-.94-.94-2.06-.94 2.06-2.06.94zm-11 1L8.5 8.5l.94-2.06 2.06-.94-2.06-.94L8.5 2.5l-.94 2.06-2.06.94zm10 10l.94 2.06.94-2.06 2.06-.94-2.06-.94-.94-2.06-.94 2.06-2.06.94z\"/><path d=\"M17.41 7.96l-1.37-1.37c-.4-.4-.92-.59-1.43-.59-.52 0-1.04.2-1.43.59L10.3 9.45l-7.72 7.72c-.78.78-.78 2.05 0 2.83L4 21.41c.39.39.9.59 1.41.59.51 0 1.02-.2 1.41-.59l7.78-7.78 2.81-2.81c.8-.78.8-2.07 0-2.86zM5.41 20L4 18.59l7.72-7.72 1.47 1.35L5.41 20z\"/>\n",
              "  </svg>\n",
              "      </button>\n",
              "      \n",
              "  <style>\n",
              "    .colab-df-container {\n",
              "      display:flex;\n",
              "      flex-wrap:wrap;\n",
              "      gap: 12px;\n",
              "    }\n",
              "\n",
              "    .colab-df-convert {\n",
              "      background-color: #E8F0FE;\n",
              "      border: none;\n",
              "      border-radius: 50%;\n",
              "      cursor: pointer;\n",
              "      display: none;\n",
              "      fill: #1967D2;\n",
              "      height: 32px;\n",
              "      padding: 0 0 0 0;\n",
              "      width: 32px;\n",
              "    }\n",
              "\n",
              "    .colab-df-convert:hover {\n",
              "      background-color: #E2EBFA;\n",
              "      box-shadow: 0px 1px 2px rgba(60, 64, 67, 0.3), 0px 1px 3px 1px rgba(60, 64, 67, 0.15);\n",
              "      fill: #174EA6;\n",
              "    }\n",
              "\n",
              "    [theme=dark] .colab-df-convert {\n",
              "      background-color: #3B4455;\n",
              "      fill: #D2E3FC;\n",
              "    }\n",
              "\n",
              "    [theme=dark] .colab-df-convert:hover {\n",
              "      background-color: #434B5C;\n",
              "      box-shadow: 0px 1px 3px 1px rgba(0, 0, 0, 0.15);\n",
              "      filter: drop-shadow(0px 1px 2px rgba(0, 0, 0, 0.3));\n",
              "      fill: #FFFFFF;\n",
              "    }\n",
              "  </style>\n",
              "\n",
              "      <script>\n",
              "        const buttonEl =\n",
              "          document.querySelector('#df-51697e56-7f49-4835-af0e-105bdfdbd7cf button.colab-df-convert');\n",
              "        buttonEl.style.display =\n",
              "          google.colab.kernel.accessAllowed ? 'block' : 'none';\n",
              "\n",
              "        async function convertToInteractive(key) {\n",
              "          const element = document.querySelector('#df-51697e56-7f49-4835-af0e-105bdfdbd7cf');\n",
              "          const dataTable =\n",
              "            await google.colab.kernel.invokeFunction('convertToInteractive',\n",
              "                                                     [key], {});\n",
              "          if (!dataTable) return;\n",
              "\n",
              "          const docLinkHtml = 'Like what you see? Visit the ' +\n",
              "            '<a target=\"_blank\" href=https://colab.research.google.com/notebooks/data_table.ipynb>data table notebook</a>'\n",
              "            + ' to learn more about interactive tables.';\n",
              "          element.innerHTML = '';\n",
              "          dataTable['output_type'] = 'display_data';\n",
              "          await google.colab.output.renderOutput(dataTable, element);\n",
              "          const docLink = document.createElement('div');\n",
              "          docLink.innerHTML = docLinkHtml;\n",
              "          element.appendChild(docLink);\n",
              "        }\n",
              "      </script>\n",
              "    </div>\n",
              "  </div>\n",
              "  "
            ]
          },
          "metadata": {},
          "execution_count": 21
        }
      ],
      "source": [
        "df.head()"
      ]
    },
    {
      "cell_type": "code",
      "execution_count": 22,
      "metadata": {
        "colab": {
          "base_uri": "https://localhost:8080/",
          "height": 281
        },
        "id": "_52iOnOjJ-Sa",
        "outputId": "4ec28ddd-d643-4843-cf47-66b3a81c8bb7"
      },
      "outputs": [
        {
          "output_type": "display_data",
          "data": {
            "text/plain": [
              "<Figure size 432x288 with 1 Axes>"
            ],
            "image/png": "[encoded data removed]"
          },
          "metadata": {
            "needs_background": "light"
          }
        }
      ],
      "source": [
        "#df[\"polarity\"].plot(kind = \"hist\", bins=20)\n",
        "plt.hist(df[\"polarity\"], bins = 20)\n",
        "plt.title(\"Polarity for bag reviews\")\n",
        "plt.show()"
      ]
    },
    {
      "cell_type": "code",
      "execution_count": 24,
      "metadata": {
        "colab": {
          "base_uri": "https://localhost:8080/",
          "height": 281
        },
        "id": "bR7GsHtj8A8Q",
        "outputId": "0cfacda5-a4b6-4d73-eb97-9f197819c998"
      },
      "outputs": [
        {
          "output_type": "display_data",
          "data": {
            "text/plain": [
              "<Figure size 432x288 with 1 Axes>"
            ],
            "image/png": "[encoded data removed]"
          },
          "metadata": {
            "needs_background": "light"
          }
        }
      ],
      "source": [
        "#df[\"review_len\"].plot(kind = \"hist\", bins=10)\n",
        "plt.hist(df[\"review_len\"], bins = 30)\n",
        "plt.title(\"Review length for bag reviews\")\n",
        "plt.show()"
      ]
    },
    {
      "cell_type": "code",
      "execution_count": 25,
      "metadata": {
        "colab": {
          "base_uri": "https://localhost:8080/",
          "height": 281
        },
        "id": "AkDx-z7WFfFr",
        "outputId": "6324fea9-b5e6-4cc8-f219-3be3e2428053"
      },
      "outputs": [
        {
          "output_type": "display_data",
          "data": {
            "text/plain": [
              "<Figure size 432x288 with 1 Axes>"
            ],
            "image/png": "[encoded data removed]"
          },
          "metadata": {
            "needs_background": "light"
          }
        }
      ],
      "source": [
        "#df[\"avg_word_len\"].plot(kind = \"hist\", bins=20)\n",
        "plt.hist(df[\"avg_word_len\"], bins = 30)[1]\n",
        "plt.title(\"Average word length of bag reviews\")\n",
        "plt.show()"
      ]
    },
    {
      "cell_type": "code",
      "execution_count": 26,
      "metadata": {
        "colab": {
          "base_uri": "https://localhost:8080/",
          "height": 422
        },
        "id": "Bjwr2PiQFfQR",
        "outputId": "37ff71d7-2355-4038-c380-7d8b121a4b88"
      },
      "outputs": [
        {
          "output_type": "execute_result",
          "data": {
            "text/plain": [
              "([<matplotlib.patches.Wedge at 0x7f2fdd2e3f10>,\n",
              "  <matplotlib.patches.Wedge at 0x7f2fdd2fc2d0>,\n",
              "  <matplotlib.patches.Wedge at 0x7f2fdd2ef2d0>,\n",
              "  <matplotlib.patches.Wedge at 0x7f2fdd2ef950>,\n",
              "  <matplotlib.patches.Wedge at 0x7f2fdd3ec950>],\n",
              " [Text(0.8050162230045088, 0.7496324970941128, '(0.999, 4.0]'),\n",
              "  Text(-0.6811204674482417, 0.8637562786012549, '(4.0, 5.0]'),\n",
              "  Text(-0.9514992072199584, -0.5519504132254917, '(5.0, 5.5]'),\n",
              "  Text(0.20596320232132231, -1.0805457691784954, '(6.0, 13.0]'),\n",
              "  Text(1.0046842293657046, -0.44789462964389337, '(5.5, 6.0]')])"
            ]
          },
          "metadata": {},
          "execution_count": 26
        },
        {
          "output_type": "display_data",
          "data": {
            "text/plain": [
              "<Figure size 432x288 with 1 Axes>"
            ],
            "image/png": "[encoded data removed]"
          },
          "metadata": {}
        }
      ],
      "source": [
        "max_word_len = df.avg_word_len.max()\n",
        "min_word_len = df.avg_word_len.min()\n",
        "pie_bins = []\n",
        "pie_bin_count = []\n",
        "for i in range(6):\n",
        "  pie_bins.append(min_word_len + (max_word_len - min_word_len) * i / 5)\n",
        "\n",
        "df[\"pie_bins\"] = pd.cut(df[\"avg_word_len\"], pie_bins)\n",
        "# df2 = df[\"pie_bins\"].value_counts()\n",
        "df[\"pie_quantile_bins\"] = pd.qcut(df[\"avg_word_len\"], 5)\n",
        "df2 = df[\"pie_quantile_bins\"].value_counts()\n",
        "\n",
        "plt.pie(df2.values, labels = df2.index)"
      ]
    },
    {
      "cell_type": "code",
      "execution_count": 27,
      "metadata": {
        "colab": {
          "base_uri": "https://localhost:8080/",
          "height": 282
        },
        "id": "VqHD9ZztFfdx",
        "outputId": "a9b2dd58-fb5b-4881-d904-9bba6eb1401f"
      },
      "outputs": [
        {
          "output_type": "execute_result",
          "data": {
            "text/plain": [
              "<matplotlib.axes._subplots.AxesSubplot at 0x7f2fdd2f8c50>"
            ]
          },
          "metadata": {},
          "execution_count": 27
        },
        {
          "output_type": "display_data",
          "data": {
            "text/plain": [
              "<Figure size 432x288 with 1 Axes>"
            ],
            "image/png": "[encoded data removed]"
          },
          "metadata": {
            "needs_background": "light"
          }
        }
      ],
      "source": [
        "df[\"Rating\"].plot(kind = \"box\")"
      ]
    },
    {
      "cell_type": "code",
      "source": [
        "from wordcloud import WordCloud\n",
        "text = \" \".join(cat for cat in df.lemmatized)\n",
        "print(len(text))\n",
        "wc = WordCloud(width = 400, height = 300, stopwords = {\"american\", \"tourister\", \"bag\"}, max_words = 100).generate(text)\n",
        "plt.imshow(wc)\n",
        "plt.axis(\"off\")\n",
        "plt.show()"
      ],
      "metadata": {
        "colab": {
          "base_uri": "https://localhost:8080/",
          "height": 265
        },
        "id": "FcNKjafRP_7G",
        "outputId": "9c7701ac-dac9-4d28-f0bb-00601adeda30"
      },
      "execution_count": 28,
      "outputs": [
        {
          "output_type": "stream",
          "name": "stdout",
          "text": [
            "130446\n"
          ]
        },
        {
          "output_type": "display_data",
          "data": {
            "text/plain": [
              "<Figure size 432x288 with 1 Axes>"
            ],
            "image/png": "[encoded data removed]"
          },
          "metadata": {
            "needs_background": "light"
          }
        }
      ]
    },
    {
      "cell_type": "code",
      "source": [
        "df.to_csv(\"output.csv\")"
      ],
      "metadata": {
        "id": "5UJXPMxcmE7F"
      },
      "execution_count": 29,
      "outputs": []
    },
    {
      "cell_type": "code",
      "source": [
        "df=pd.read_csv('output_with_satisfaction.csv')\n",
        "\n",
        "df['Rating'].value_counts().plot.bar()\n",
        "# from matplotlib.pyplot import pie, axis, show\n",
        "# sum = df['Rating satisfaction'].groupby(df.Rating).sum()\n",
        "# axis('equal')\n",
        "# pie(sum, labels = sum.index)\n",
        "# show()"
      ],
      "metadata": {
        "id": "LC9T0Qz2wcVu",
        "colab": {
          "base_uri": "https://localhost:8080/",
          "height": 279
        },
        "outputId": "6d762fdd-bbce-4afa-c4f5-9d8171fc85db"
      },
      "execution_count": 40,
      "outputs": [
        {
          "output_type": "execute_result",
          "data": {
            "text/plain": [
              "<matplotlib.axes._subplots.AxesSubplot at 0x7f2fd4779490>"
            ]
          },
          "metadata": {},
          "execution_count": 40
        },
        {
          "output_type": "display_data",
          "data": {
            "text/plain": [
              "<Figure size 432x288 with 1 Axes>"
            ],
            "image/png": "[encoded data removed]"
          },
          "metadata": {
            "needs_background": "light"
          }
        }
      ]
    }
  ],
  "metadata": {
    "colab": {
      "collapsed_sections": [],
      "name": "American_tourister.ipynb",
      "provenance": []
    },
    "kernelspec": {
      "display_name": "Python 3 (ipykernel)",
      "language": "python",
      "name": "python3"
    },
    "language_info": {
      "codemirror_mode": {
        "name": "ipython",
        "version": 3
      },
      "file_extension": ".py",
      "mimetype": "text/x-python",
      "name": "python",
      "nbconvert_exporter": "python",
      "pygments_lexer": "ipython3",
      "version": "3.9.7"
    }
  },
  "nbformat": 4,
  "nbformat_minor": 0
}